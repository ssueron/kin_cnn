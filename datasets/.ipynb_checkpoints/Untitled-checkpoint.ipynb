{
 "cells": [
  {
   "cell_type": "code",
   "execution_count": 2,
   "id": "1d004b2f-6d26-4339-96e9-f509457031c2",
   "metadata": {},
   "outputs": [],
   "source": [
    "import random, pathlib, multiprocessing as mp\n",
    "import pandas as pd\n",
    "from rdkit import Chem, DataStructs, RDLogger\n",
    "from rdkit.Chem import rdFingerprintGenerator as rfg\n",
    "from rdkit.ML.Cluster import Butina\n",
    "\n",
    "RDLogger.DisableLog(\"rdApp.*\")          # silence RDKit chatter\n"
   ]
  },
  {
   "cell_type": "code",
   "execution_count": 4,
   "id": "a46f2546-730f-439c-8959-8b847100fabe",
   "metadata": {},
   "outputs": [],
   "source": [
    "csv_path   = \"chembl_pretraining.csv\"  # your file\n",
    "tan_thresh = 0.7                       # Tanimoto threshold for clustering\n",
    "test_frac  = 0.10                      # test-set size  (by clusters)\n",
    "val_frac   = 0.10                      # validation size (by clusters)\n",
    "radius     = 3                         # ECFP-6 → radius 3\n",
    "fp_bits    = 2048                      # fingerprint length\n",
    "seed       = 42                        # reproducibility\n",
    "n_jobs     = mp.cpu_count()            # parallel SMILES → FP\n"
   ]
  },
  {
   "cell_type": "code",
   "execution_count": 6,
   "id": "b787ad21-4f13-4179-9620-ffc090c5bab2",
   "metadata": {},
   "outputs": [
    {
     "name": "stdout",
     "output_type": "stream",
     "text": [
      "79,492 molecules, 357 protein columns (122,822 measured activities)\n"
     ]
    }
   ],
   "source": [
    "df = pd.read_csv(csv_path, engine=\"pyarrow\")\n",
    "smiles_col = \"smiles\" if \"smiles\" in df.columns else \"Smiles\"\n",
    "df = df.dropna(subset=[smiles_col]).reset_index(drop=True)\n",
    "\n",
    "protein_cols = [c for c in df.columns if c not in {smiles_col}]\n",
    "print(f\"{len(df):,} molecules, {len(protein_cols)} protein columns \"\n",
    "      f\"({df[protein_cols].count().sum():,} measured activities)\")\n"
   ]
  },
  {
   "cell_type": "code",
   "execution_count": 6,
   "id": "96c981f2-f28d-4855-a3ee-b0bb688e5c3a",
   "metadata": {},
   "outputs": [
    {
     "data": {
      "application/vnd.jupyter.widget-view+json": {
       "model_id": "ec80fad3346546f8a77c1c074bfb248b",
       "version_major": 2,
       "version_minor": 0
      },
      "text/plain": [
       "ECFP6:   0%|          | 0/79492 [00:00<?, ?it/s]"
      ]
     },
     "metadata": {},
     "output_type": "display_data"
    },
    {
     "name": "stdout",
     "output_type": "stream",
     "text": [
      "✓ fingerprints ready (79,492 molecules, single core)\n"
     ]
    }
   ],
   "source": [
    "# ─── Cell 4  ── Fingerprints with MorganGenerator (single-thread) ─────────────\n",
    "from tqdm.auto import tqdm          # nice progress bar; pip install tqdm if needed\n",
    "\n",
    "gen = rfg.GetMorganGenerator(radius=radius,\n",
    "                             fpSize=fp_bits,\n",
    "                             includeChirality=True)\n",
    "\n",
    "def one_fp(smi: str):\n",
    "    mol = Chem.MolFromSmiles(smi)\n",
    "    if mol is None:\n",
    "        raise ValueError(f\"Bad SMILES: {smi}\")\n",
    "    return gen.GetFingerprint(mol)\n",
    "\n",
    "fps = [one_fp(smi) for smi in tqdm(df[smiles_col], desc=\"ECFP6\")]\n",
    "\n",
    "print(f\"✓ fingerprints ready ({len(fps):,} molecules, single core)\")\n"
   ]
  },
  {
   "cell_type": "code",
   "execution_count": null,
   "id": "9460b4df-c479-48b7-80fd-ab8f5fc5ccc8",
   "metadata": {},
   "outputs": [],
   "source": [
    "# build condensed distance list (1-similarity) expected by Butina\n",
    "dists = []\n",
    "for i in range(1, len(fps)):\n",
    "    dists.extend(1 - x for x in DataStructs.BulkTanimotoSimilarity(fps[i], fps[:i]))\n",
    "\n",
    "clusters = Butina.ClusterData(dists, len(fps), tan_thresh, isDistData=True)\n",
    "cid_map  = {m: c for c, members in enumerate(clusters) for m in members}\n",
    "df[\"cluster_id\"] = df.index.map(cid_map)\n",
    "\n",
    "print(f\"✓ {len(clusters):,} clusters (Tanimoto ≤ {tan_thresh} across clusters)\")\n"
   ]
  },
  {
   "cell_type": "code",
   "execution_count": 7,
   "id": "d939cba1-fb99-4d49-a0c4-d5a63e49f858",
   "metadata": {},
   "outputs": [
    {
     "ename": "KeyError",
     "evalue": "'cluster_id'",
     "output_type": "error",
     "traceback": [
      "\u001b[0;31m---------------------------------------------------------------------------\u001b[0m",
      "\u001b[0;31mKeyError\u001b[0m                                  Traceback (most recent call last)",
      "File \u001b[0;32m/opt/anaconda3/lib/python3.12/site-packages/pandas/core/indexes/base.py:3805\u001b[0m, in \u001b[0;36mIndex.get_loc\u001b[0;34m(self, key)\u001b[0m\n\u001b[1;32m   3804\u001b[0m \u001b[38;5;28;01mtry\u001b[39;00m:\n\u001b[0;32m-> 3805\u001b[0m     \u001b[38;5;28;01mreturn\u001b[39;00m \u001b[38;5;28mself\u001b[39m\u001b[38;5;241m.\u001b[39m_engine\u001b[38;5;241m.\u001b[39mget_loc(casted_key)\n\u001b[1;32m   3806\u001b[0m \u001b[38;5;28;01mexcept\u001b[39;00m \u001b[38;5;167;01mKeyError\u001b[39;00m \u001b[38;5;28;01mas\u001b[39;00m err:\n",
      "File \u001b[0;32mindex.pyx:167\u001b[0m, in \u001b[0;36mpandas._libs.index.IndexEngine.get_loc\u001b[0;34m()\u001b[0m\n",
      "File \u001b[0;32mindex.pyx:196\u001b[0m, in \u001b[0;36mpandas._libs.index.IndexEngine.get_loc\u001b[0;34m()\u001b[0m\n",
      "File \u001b[0;32mpandas/_libs/hashtable_class_helper.pxi:7081\u001b[0m, in \u001b[0;36mpandas._libs.hashtable.PyObjectHashTable.get_item\u001b[0;34m()\u001b[0m\n",
      "File \u001b[0;32mpandas/_libs/hashtable_class_helper.pxi:7089\u001b[0m, in \u001b[0;36mpandas._libs.hashtable.PyObjectHashTable.get_item\u001b[0;34m()\u001b[0m\n",
      "\u001b[0;31mKeyError\u001b[0m: 'cluster_id'",
      "\nThe above exception was the direct cause of the following exception:\n",
      "\u001b[0;31mKeyError\u001b[0m                                  Traceback (most recent call last)",
      "Cell \u001b[0;32mIn[7], line 2\u001b[0m\n\u001b[1;32m      1\u001b[0m random\u001b[38;5;241m.\u001b[39mseed(seed)\n\u001b[0;32m----> 2\u001b[0m cids \u001b[38;5;241m=\u001b[39m \u001b[38;5;28mlist\u001b[39m(df[\u001b[38;5;124m\"\u001b[39m\u001b[38;5;124mcluster_id\u001b[39m\u001b[38;5;124m\"\u001b[39m]\u001b[38;5;241m.\u001b[39munique())\n\u001b[1;32m      3\u001b[0m random\u001b[38;5;241m.\u001b[39mshuffle(cids)\n\u001b[1;32m      5\u001b[0m limits  \u001b[38;5;241m=\u001b[39m {\u001b[38;5;124m\"\u001b[39m\u001b[38;5;124mtest\u001b[39m\u001b[38;5;124m\"\u001b[39m: \u001b[38;5;28mint\u001b[39m(\u001b[38;5;28mround\u001b[39m(\u001b[38;5;28mlen\u001b[39m(cids)\u001b[38;5;241m*\u001b[39mtest_frac)),\n\u001b[1;32m      6\u001b[0m            \u001b[38;5;124m\"\u001b[39m\u001b[38;5;124mval\u001b[39m\u001b[38;5;124m\"\u001b[39m:  \u001b[38;5;28mint\u001b[39m(\u001b[38;5;28mround\u001b[39m(\u001b[38;5;28mlen\u001b[39m(cids)\u001b[38;5;241m*\u001b[39mval_frac))}\n",
      "File \u001b[0;32m/opt/anaconda3/lib/python3.12/site-packages/pandas/core/frame.py:4102\u001b[0m, in \u001b[0;36mDataFrame.__getitem__\u001b[0;34m(self, key)\u001b[0m\n\u001b[1;32m   4100\u001b[0m \u001b[38;5;28;01mif\u001b[39;00m \u001b[38;5;28mself\u001b[39m\u001b[38;5;241m.\u001b[39mcolumns\u001b[38;5;241m.\u001b[39mnlevels \u001b[38;5;241m>\u001b[39m \u001b[38;5;241m1\u001b[39m:\n\u001b[1;32m   4101\u001b[0m     \u001b[38;5;28;01mreturn\u001b[39;00m \u001b[38;5;28mself\u001b[39m\u001b[38;5;241m.\u001b[39m_getitem_multilevel(key)\n\u001b[0;32m-> 4102\u001b[0m indexer \u001b[38;5;241m=\u001b[39m \u001b[38;5;28mself\u001b[39m\u001b[38;5;241m.\u001b[39mcolumns\u001b[38;5;241m.\u001b[39mget_loc(key)\n\u001b[1;32m   4103\u001b[0m \u001b[38;5;28;01mif\u001b[39;00m is_integer(indexer):\n\u001b[1;32m   4104\u001b[0m     indexer \u001b[38;5;241m=\u001b[39m [indexer]\n",
      "File \u001b[0;32m/opt/anaconda3/lib/python3.12/site-packages/pandas/core/indexes/base.py:3812\u001b[0m, in \u001b[0;36mIndex.get_loc\u001b[0;34m(self, key)\u001b[0m\n\u001b[1;32m   3807\u001b[0m     \u001b[38;5;28;01mif\u001b[39;00m \u001b[38;5;28misinstance\u001b[39m(casted_key, \u001b[38;5;28mslice\u001b[39m) \u001b[38;5;129;01mor\u001b[39;00m (\n\u001b[1;32m   3808\u001b[0m         \u001b[38;5;28misinstance\u001b[39m(casted_key, abc\u001b[38;5;241m.\u001b[39mIterable)\n\u001b[1;32m   3809\u001b[0m         \u001b[38;5;129;01mand\u001b[39;00m \u001b[38;5;28many\u001b[39m(\u001b[38;5;28misinstance\u001b[39m(x, \u001b[38;5;28mslice\u001b[39m) \u001b[38;5;28;01mfor\u001b[39;00m x \u001b[38;5;129;01min\u001b[39;00m casted_key)\n\u001b[1;32m   3810\u001b[0m     ):\n\u001b[1;32m   3811\u001b[0m         \u001b[38;5;28;01mraise\u001b[39;00m InvalidIndexError(key)\n\u001b[0;32m-> 3812\u001b[0m     \u001b[38;5;28;01mraise\u001b[39;00m \u001b[38;5;167;01mKeyError\u001b[39;00m(key) \u001b[38;5;28;01mfrom\u001b[39;00m \u001b[38;5;21;01merr\u001b[39;00m\n\u001b[1;32m   3813\u001b[0m \u001b[38;5;28;01mexcept\u001b[39;00m \u001b[38;5;167;01mTypeError\u001b[39;00m:\n\u001b[1;32m   3814\u001b[0m     \u001b[38;5;66;03m# If we have a listlike key, _check_indexing_error will raise\u001b[39;00m\n\u001b[1;32m   3815\u001b[0m     \u001b[38;5;66;03m#  InvalidIndexError. Otherwise we fall through and re-raise\u001b[39;00m\n\u001b[1;32m   3816\u001b[0m     \u001b[38;5;66;03m#  the TypeError.\u001b[39;00m\n\u001b[1;32m   3817\u001b[0m     \u001b[38;5;28mself\u001b[39m\u001b[38;5;241m.\u001b[39m_check_indexing_error(key)\n",
      "\u001b[0;31mKeyError\u001b[0m: 'cluster_id'"
     ]
    }
   ],
   "source": [
    "random.seed(seed)\n",
    "cids = list(df[\"cluster_id\"].unique())\n",
    "random.shuffle(cids)\n",
    "\n",
    "limits  = {\"test\": int(round(len(cids)*test_frac)),\n",
    "           \"val\":  int(round(len(cids)*val_frac))}\n",
    "counts  = {\"train\": 0, \"val\": 0, \"test\": 0}\n",
    "split_of = {}\n",
    "\n",
    "for cid in cids:\n",
    "    for label in (\"test\", \"val\", \"train\"):\n",
    "        if label == \"train\" or counts[label] < limits[label]:\n",
    "            split_of[cid] = label\n",
    "            counts[label] += 1\n",
    "            break\n",
    "\n",
    "df[\"split\"] = df[\"cluster_id\"].map(split_of)\n",
    "\n",
    "for s in (\"train\",\"val\",\"test\"):\n",
    "    sub = df[df.split==s]\n",
    "    print(f\"{s:<5} : {len(sub):>7} mols in {sub.cluster_id.nunique():>6} clusters\")\n"
   ]
  },
  {
   "cell_type": "code",
   "execution_count": null,
   "id": "5b21e683-2387-4e20-81d6-47f832153b19",
   "metadata": {},
   "outputs": [],
   "source": []
  }
 ],
 "metadata": {
  "kernelspec": {
   "display_name": "Python [conda env:base] *",
   "language": "python",
   "name": "conda-base-py"
  },
  "language_info": {
   "codemirror_mode": {
    "name": "ipython",
    "version": 3
   },
   "file_extension": ".py",
   "mimetype": "text/x-python",
   "name": "python",
   "nbconvert_exporter": "python",
   "pygments_lexer": "ipython3",
   "version": "3.12.7"
  }
 },
 "nbformat": 4,
 "nbformat_minor": 5
}
