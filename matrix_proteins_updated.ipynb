{
 "cells": [
  {
   "cell_type": "code",
   "execution_count": 1,
   "id": "f00240a5",
   "metadata": {},
   "outputs": [],
   "source": [
    "import numpy as np\n",
    "import pandas as pd\n",
    "from rdkit import Chem\n",
    "from rdkit.Chem.Scaffolds import MurckoScaffold\n",
    "from rdkit.Chem import rdFingerprintGenerator\n",
    "from sklearn.utils.extmath import randomized_svd\n",
    "from sklearn.cluster import KMeans"
   ]
  },
  {
   "cell_type": "code",
   "execution_count": 2,
   "id": "8b67add1",
   "metadata": {},
   "outputs": [],
   "source": [
    "df = pd.read_csv('datasets/chembl_pretraining.csv')\n",
    "smiles = df['smiles'].tolist()\n",
    "protein_cols = [c for c in df.columns if c != 'smiles']"
   ]
  },
  {
   "cell_type": "code",
   "execution_count": 3,
   "id": "1654f6cf",
   "metadata": {},
   "outputs": [],
   "source": [
    "def bm_scaf(s):\n",
    "    m = Chem.MolFromSmiles(s)\n",
    "    if m is None: return None\n",
    "    sc = MurckoScaffold.GetScaffoldForMol(m)\n",
    "    if sc is None or sc.GetNumAtoms()==0: return None\n",
    "    return Chem.MolToSmiles(sc, isomericSmiles=False)\n",
    "df['scaffold_smiles'] = df['smiles'].map(bm_scaf)\n",
    "scaf_id, scaf_vocab = pd.factorize(df['scaffold_smiles'], sort=True)\n",
    "df['scaf_id'] = scaf_id\n",
    "n_mols = len(df)"
   ]
  },
  {
   "cell_type": "code",
   "execution_count": 4,
   "id": "369cea4c",
   "metadata": {},
   "outputs": [],
   "source": [
    "mols = [Chem.MolFromSmiles(s) for s in smiles]\n",
    "grouped = df.groupby('scaf_id').indices\n",
    "scaff_to_idx = {k: np.array(v, dtype=int) for k, v in grouped.items() if k >= 0}\n",
    "rep_idx = [v[0] for v in scaff_to_idx.values()]\n",
    "gen = rdFingerprintGenerator.GetMorganGenerator(radius=3, fpSize=2048)\n",
    "X = np.zeros((len(rep_idx), 2048), dtype=bool)\n",
    "for r, i in enumerate(rep_idx):\n",
    "    bv = gen.GetFingerprint(mols[i])\n",
    "    on = list(bv.GetOnBits())\n",
    "    if on: X[r, on] = True"
   ]
  },
  {
   "cell_type": "code",
   "execution_count": 5,
   "id": "0c97015f",
   "metadata": {},
   "outputs": [],
   "source": [
    "def jaccard_AB(A, B, chunk=2048):\n",
    "    B_u16 = B.astype(np.uint16); B_t = B_u16.T\n",
    "    bsum = B.sum(axis=1).astype(np.int32)\n",
    "    n = A.shape[0]\n",
    "    out = np.empty((n, B.shape[0]), dtype=np.float32)\n",
    "    for i in range(0, n, chunk):\n",
    "        Ab = A[i:i+chunk]\n",
    "        inter = Ab.astype(np.uint16) @ B_t\n",
    "        asum = Ab.sum(axis=1).astype(np.int32)[:, None]\n",
    "        union = asum + bsum[None, :] - inter\n",
    "        union = np.maximum(union, 1)\n",
    "        out[i:i+chunk] = inter / union\n",
    "    return out\n",
    "rng = np.random.default_rng(0)\n",
    "n = X.shape[0]\n",
    "m = min(1024, n)\n",
    "L = rng.choice(n, size=m, replace=False)\n",
    "B = X[L]\n",
    "C = jaccard_AB(X, B, chunk=2048).astype(np.float32)\n",
    "W = jaccard_AB(B, B, chunk=1024).astype(np.float32)\n",
    "eps = 1e-6\n",
    "evals, evecs = np.linalg.eigh(W + eps*np.eye(m, dtype=np.float32))\n",
    "Winv = (evecs / evals) @ evecs.T\n",
    "Winvsqrt = (evecs / np.sqrt(evals)) @ evecs.T\n",
    "u = C.sum(axis=0)\n",
    "v = Winv @ u\n",
    "d = C @ v\n",
    "s = (1.0 / np.sqrt(d + 1e-12)).astype(np.float32)\n",
    "E = (C * s[:, None]) @ Winvsqrt\n",
    "U, S, VT = randomized_svd(E, n_components=3, random_state=0)\n",
    "Y = U / (np.linalg.norm(U, axis=1, keepdims=True) + 1e-12)\n",
    "labels = KMeans(n_clusters=3, n_init=10, random_state=0).fit_predict(Y)\n",
    "scaff_order = np.argsort(labels)\n",
    "scaff_keys = list(scaff_to_idx.keys())"
   ]
  },
  {
   "cell_type": "code",
   "execution_count": 6,
   "id": "c1d46b5f",
   "metadata": {},
   "outputs": [],
   "source": [
    "prot_counts = {}\n",
    "for k, idx in scaff_to_idx.items():\n",
    "    sub = df.iloc[idx][protein_cols]\n",
    "    prot_counts[k] = sub.notna().sum().to_dict()\n",
    "total_per_prot = pd.DataFrame.from_dict(prot_counts, orient='index')[protein_cols].fillna(0).sum(axis=0).astype(int)\n",
    "need_cover = set([p for p in protein_cols if total_per_prot[p] >= 3])"
   ]
  },
  {
   "cell_type": "code",
   "execution_count": 7,
   "id": "81a2d899",
   "metadata": {},
   "outputs": [],
   "source": [
    "n_scaff = len(scaff_to_idx)\n",
    "ratios = np.array([0.8,0.1,0.1])\n",
    "targets = (ratios * n_scaff).astype(int); targets[0] = n_scaff - targets[1] - targets[2]\n",
    "assign = {k: None for k in scaff_to_idx.keys()}\n",
    "split_sizes = np.zeros(3, dtype=int)\n",
    "cov = {p: np.zeros(3, dtype=int) for p in protein_cols}\n",
    "order = sorted(scaff_to_idx.keys(), key=lambda k: (min([total_per_prot[p] for p,c in prot_counts[k].items() if c>0]) if any(c>0 for c in prot_counts[k].values()) else 10**9,))\n",
    "for k in order:\n",
    "    gains = []\n",
    "    pc = prot_counts[k]\n",
    "    for s in range(3):\n",
    "        g = sum(1 for p,c in pc.items() if c>0 and p in need_cover and cov[p][s]==0)\n",
    "        over = 1 if split_sizes[s] >= targets[s] else 0\n",
    "        gains.append((g, -over, -split_sizes[s], s))\n",
    "    s = max(gains)[-1]\n",
    "    assign[k] = s\n",
    "    split_sizes[s] += 1\n",
    "    for p,c in prot_counts[k].items():\n",
    "        if c>0: cov[p][s] += 1"
   ]
  },
  {
   "cell_type": "code",
   "execution_count": 8,
   "id": "e110f029",
   "metadata": {},
   "outputs": [],
   "source": [
    "mol_split = np.full(n_mols, -1, dtype=int)\n",
    "for k, s in assign.items():\n",
    "    idx = scaff_to_idx[k]\n",
    "    mol_split[idx] = s"
   ]
  },
  {
   "cell_type": "code",
   "execution_count": 9,
   "id": "8c7c2968",
   "metadata": {},
   "outputs": [],
   "source": [
    "train_idx = np.where(mol_split==0)[0]\n",
    "val_idx = np.where(mol_split==1)[0]\n",
    "test_idx = np.where(mol_split==2)[0]"
   ]
  },
  {
   "cell_type": "code",
   "execution_count": 10,
   "id": "e293c9c7",
   "metadata": {},
   "outputs": [],
   "source": [
    "df_selectivity = pd.DataFrame({\n",
    "    \"mol_idx\": np.arange(n_mols),\n",
    "    \"smiles\": df['smiles'].values,\n",
    "    \"split\": mol_split,\n",
    "    \"cluster\": -1,\n",
    "    \"scaffold\": [scaf_vocab[i] if i >= 0 else None for i in scaf_id]\n",
    "})\n",
    "df_selectivity.to_csv(\"split_molecules_selectivity.csv\", index=False)"
   ]
  },
  {
   "cell_type": "code",
   "execution_count": 11,
   "id": "d33f90ff",
   "metadata": {},
   "outputs": [],
   "source": [
    "import os\n",
    "os.makedirs('datasets', exist_ok=True)\n",
    "df_full = pd.read_csv('datasets/chembl_pretraining.csv')\n",
    "df_join = df_full.merge(df_selectivity[['smiles','split']], on=\"smiles\", how=\"inner\", validate=\"many_to_one\")\n",
    "for split_val, name in enumerate(['train','val','test']):\n",
    "    df_join[df_join['split']==split_val].drop(columns=['split']).to_csv(f'datasets/chembl_pretraining_{name}.csv', index=False)"
   ]
  }
 ],
 "metadata": {
  "kernelspec": {
   "display_name": "Python 3",
   "language": "python",
   "name": "python3"
  },
  "language_info": {
   "codemirror_mode": {
    "name": "ipython",
    "version": 3
   },
   "file_extension": ".py",
   "mimetype": "text/x-python",
   "name": "python",
   "nbconvert_exporter": "python",
   "pygments_lexer": "ipython3",
   "version": "3.10.12"
  }
 },
 "nbformat": 4,
 "nbformat_minor": 5
}
